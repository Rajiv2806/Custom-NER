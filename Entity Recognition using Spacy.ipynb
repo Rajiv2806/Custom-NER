{
 "cells": [
  {
   "cell_type": "markdown",
   "id": "bde8f207-14a5-4ca7-baf6-ead73dc9a879",
   "metadata": {},
   "source": [
    "# Entity Recognition using Spacy\n",
    "\n",
    "https://spacy.io/"
   ]
  },
  {
   "cell_type": "code",
   "execution_count": 2,
   "id": "f572cea1-30bc-4880-a969-2ad576999245",
   "metadata": {},
   "outputs": [
    {
     "name": "stdout",
     "output_type": "stream",
     "text": [
      "3.0.0\n"
     ]
    }
   ],
   "source": [
    "import spacy\n",
    "print(spacy.__version__)"
   ]
  },
  {
   "cell_type": "code",
   "execution_count": 4,
   "id": "860ed2ec-6872-4f34-8d0a-f2685a3f9e36",
   "metadata": {},
   "outputs": [],
   "source": [
    "# Some random text fetched from a news article\n",
    "\n",
    "text = \"\"\"Lucknow: Abdullah Azam, son of MP Mohd Azam Khan, who was recently released on bail, reportedly met Samajwadi Party chief Akhilesh Yadav and handed over a list of 12 of his father’s aides for whom he has sought poll tickets for the upcoming Uttar Pradesh elections 2022.\n",
    "\n",
    "Reports suggest that Akhilesh Yada turned down Azam Khan’s demand and expressed his inability to accommodate all 12 minority community leaders in the UP elections 2022.\n",
    "\n",
    "Meanwhile, reports also say that Azam Khan and his son Abdullah Azam are expected to fight the UP Assembly elections 2022 from Rampur Sadar and Swar constituencies respectively. \n",
    "\n",
    "Notably, Azam Khan is considered to be a big leader of the Samajwadi Party and has a strong presence in the Muslim community, which has a sizeable presence in Uttar Pradesh.\n",
    "\n",
    "Abdullah Azam was released on bail from the Sitapur jail after almost 23 months of imprisonment.\n",
    "\n",
    "\"I will only say one thing that oppression will end after March 10 and the oppressor will also be removed from the throne,” the son of Azam Khan had said after securing bail.\"\"\""
   ]
  },
  {
   "cell_type": "code",
   "execution_count": 6,
   "id": "56701b56-921a-4b74-9d50-2495e5b87e9c",
   "metadata": {},
   "outputs": [
    {
     "name": "stdout",
     "output_type": "stream",
     "text": [
      "Noun phrases: ['Abdullah Azam', 'son', 'MP', 'Mohd Azam Khan', 'who', 'bail', 'Samajwadi Party chief Akhilesh Yadav', 'a list', 'his father’s aides', 'whom', 'he', 'poll tickets', 'the upcoming Uttar Pradesh elections', 'Reports', 'Akhilesh Yada', 'Azam Khan’s demand', 'his inability', 'all 12 minority community leaders', 'the UP elections', 'reports', 'Azam Khan', 'his son', 'Abdullah Azam', 'the UP Assembly elections', 'Rampur Sadar and Swar constituencies', 'Azam Khan', 'a big leader', 'the Samajwadi Party', 'a strong presence', 'the Muslim community', 'a sizeable presence', 'Uttar Pradesh', 'Abdullah Azam', 'bail', 'the Sitapur jail', 'almost 23 months', 'imprisonment', 'I', 'one thing', 'that oppression', 'March', 'the oppressor', 'the throne', 'the son', 'Azam Khan', 'bail']\n",
      "Verbs: ['release', 'meet', 'hand', 'seek', 'suggest', 'turn', 'express', 'accommodate', 'say', 'expect', 'fight', 'consider', 'be', 'have', 'have', 'release', 'say', 'end', 'remove', 'say', 'secure']\n"
     ]
    }
   ],
   "source": [
    "# Load English tokenizer, tagger, parser and NER\n",
    "nlp = spacy.load(\"en_core_web_sm\")\n",
    "\n",
    "doc = nlp(text)\n",
    "\n",
    "# Analyze syntax\n",
    "print(\"Noun phrases:\", [chunk.text for chunk in doc.noun_chunks])\n",
    "print(\"Verbs:\", [token.lemma_ for token in doc if token.pos_ == \"VERB\"])"
   ]
  },
  {
   "cell_type": "code",
   "execution_count": 7,
   "id": "7fa6686c-9af0-496f-968e-8fb05337583d",
   "metadata": {},
   "outputs": [
    {
     "name": "stdout",
     "output_type": "stream",
     "text": [
      "Abdullah Azam PERSON\n",
      "Azam Khan PERSON\n",
      "Samajwadi Party ORG\n",
      "Akhilesh Yadav PERSON\n",
      "12 CARDINAL\n",
      "Uttar Pradesh ORG\n",
      "2022 DATE\n",
      "Akhilesh Yada PERSON\n",
      "Azam Khan’s PERSON\n",
      "12 CARDINAL\n",
      "2022 DATE\n",
      "Azam Khan PERSON\n",
      "Abdullah Azam PERSON\n",
      "2022 DATE\n",
      "Rampur Sadar GPE\n",
      "Swar ORG\n",
      "Azam Khan PERSON\n",
      "the Samajwadi Party ORG\n",
      "Muslim NORP\n",
      "Uttar Pradesh ORG\n",
      "Abdullah Azam PERSON\n",
      "Sitapur GPE\n",
      "almost 23 months DATE\n",
      "one CARDINAL\n",
      "March 10 DATE\n",
      "Azam Khan PERSON\n"
     ]
    }
   ],
   "source": [
    "# Find named entities, phrases and concepts\n",
    "for entity in doc.ents:\n",
    "    print(entity.text, entity.label_)"
   ]
  }
 ],
 "metadata": {
  "kernelspec": {
   "display_name": "Python 3",
   "language": "python",
   "name": "python3"
  },
  "language_info": {
   "codemirror_mode": {
    "name": "ipython",
    "version": 3
   },
   "file_extension": ".py",
   "mimetype": "text/x-python",
   "name": "python",
   "nbconvert_exporter": "python",
   "pygments_lexer": "ipython3",
   "version": "3.8.8"
  }
 },
 "nbformat": 4,
 "nbformat_minor": 5
}
